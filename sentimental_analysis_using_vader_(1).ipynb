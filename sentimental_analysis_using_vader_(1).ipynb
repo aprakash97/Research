{
  "nbformat": 4,
  "nbformat_minor": 0,
  "metadata": {
    "colab": {
      "name": "sentimental_analysis_using_vader (1).ipynb",
      "provenance": [],
      "collapsed_sections": [],
      "toc_visible": true
    },
    "kernelspec": {
      "display_name": "Python 3",
      "name": "python3"
    },
    "language_info": {
      "name": "python"
    }
  },
  "cells": [
    {
      "cell_type": "markdown",
      "metadata": {
        "id": "sWt4hAcMMBx9"
      },
      "source": [
        "<h1 style=\"font-family:verdana;\" > <center>📚 Reviews Sentimental Analysis  📚</center> </h1>"
      ]
    },
    {
      "cell_type": "code",
      "metadata": {
        "colab": {
          "base_uri": "https://localhost:8080/",
          "height": 52
        },
        "id": "n4H9jpLEJd7X",
        "outputId": "0e264991-b61d-44c1-9c5a-1b0fa63bfafe"
      },
      "source": [
        "import pandas as pd\n",
        "import numpy as np\n",
        "import re\n",
        "import nltk\n",
        "from nltk.stem import WordNetLemmatizer\n",
        "from nltk.corpus import stopwords \n",
        "from nltk.tokenize import word_tokenize \n",
        "from sklearn.cluster import MiniBatchKMeans\n",
        "import seaborn as sns\n",
        "nltk.download('vader_lexicon')\n",
        "from sklearn.feature_extraction.text import TfidfVectorizer\n",
        "from sklearn.decomposition import PCA\n",
        "from sklearn.manifold import TSNE\n",
        "import matplotlib.pyplot as plt\n",
        "import matplotlib.cm as cm\n",
        "from nltk.sentiment.vader import SentimentIntensityAnalyzer as vad\n",
        "import plotly\n",
        "import plotly.express as px\n",
        "plotly.offline.init_notebook_mode (connected = True)"
      ],
      "execution_count": null,
      "outputs": [
        {
          "output_type": "stream",
          "name": "stdout",
          "text": [
            "[nltk_data] Downloading package vader_lexicon to /root/nltk_data...\n",
            "[nltk_data]   Package vader_lexicon is already up-to-date!\n"
          ]
        },
        {
          "output_type": "display_data",
          "data": {
            "text/html": [
              "        <script type=\"text/javascript\">\n",
              "        window.PlotlyConfig = {MathJaxConfig: 'local'};\n",
              "        if (window.MathJax) {MathJax.Hub.Config({SVG: {font: \"STIX-Web\"}});}\n",
              "        if (typeof require !== 'undefined') {\n",
              "        require.undef(\"plotly\");\n",
              "        requirejs.config({\n",
              "            paths: {\n",
              "                'plotly': ['https://cdn.plot.ly/plotly-latest.min']\n",
              "            }\n",
              "        });\n",
              "        require(['plotly'], function(Plotly) {\n",
              "            window._Plotly = Plotly;\n",
              "        });\n",
              "        }\n",
              "        </script>\n",
              "        "
            ]
          },
          "metadata": {}
        }
      ]
    },
    {
      "cell_type": "code",
      "source": [
        "from google.colab import drive\n",
        "drive.mount('/content/drive')"
      ],
      "metadata": {
        "id": "N3BwR2AGL6Eg"
      },
      "execution_count": null,
      "outputs": []
    },
    {
      "cell_type": "markdown",
      "source": [
        "# New Section"
      ],
      "metadata": {
        "id": "ZYCPNp_lL7gE"
      }
    },
    {
      "cell_type": "markdown",
      "metadata": {
        "id": "nkj8lxgiXdRK"
      },
      "source": [
        "<div style=\"color:white;\n",
        "           display:fill;\n",
        "           border-radius:5px;\n",
        "           background-color:#18EAC1;\n",
        "           font-size:110%;\n",
        "           font-family:Verdana;\n",
        "           letter-spacing:0.5px\">\n",
        "\n",
        "<h1 style=\"padding: 10px;\n",
        "              color:white;\">\n",
        "    <center>Importing The Data</center>\n",
        "</h1>\n",
        "</div>"
      ]
    },
    {
      "cell_type": "code",
      "metadata": {
        "id": "csq94sJ1JplG"
      },
      "source": [
        "data=pd.read_csv('reviews (1).csv')"
      ],
      "execution_count": null,
      "outputs": []
    },
    {
      "cell_type": "markdown",
      "metadata": {
        "id": "flyjhH2JXhEU"
      },
      "source": [
        "<div style=\"color:white;\n",
        "           display:fill;\n",
        "           border-radius:5px;\n",
        "           background-color:#18EAC1;\n",
        "           font-size:110%;\n",
        "           font-family:Verdana;\n",
        "           letter-spacing:0.5px\">\n",
        "\n",
        "<h1 style=\"padding: 10px;\n",
        "              color:white;\">\n",
        "    <center>Having A Look At The Data</center>\n",
        "</h1>\n",
        "</div>"
      ]
    },
    {
      "cell_type": "code",
      "metadata": {
        "colab": {
          "base_uri": "https://localhost:8080/",
          "height": 337
        },
        "id": "_v8C_yMLCNIq",
        "outputId": "06d48728-a937-4717-b2c7-5a5925e353ac"
      },
      "source": [
        "data.head()"
      ],
      "execution_count": null,
      "outputs": [
        {
          "output_type": "execute_result",
          "data": {
            "text/html": [
              "\n",
              "  <div id=\"df-d7f1692d-354c-4f6d-8fbd-4444bcb13840\">\n",
              "    <div class=\"colab-df-container\">\n",
              "      <div>\n",
              "<style scoped>\n",
              "    .dataframe tbody tr th:only-of-type {\n",
              "        vertical-align: middle;\n",
              "    }\n",
              "\n",
              "    .dataframe tbody tr th {\n",
              "        vertical-align: top;\n",
              "    }\n",
              "\n",
              "    .dataframe thead th {\n",
              "        text-align: right;\n",
              "    }\n",
              "</style>\n",
              "<table border=\"1\" class=\"dataframe\">\n",
              "  <thead>\n",
              "    <tr style=\"text-align: right;\">\n",
              "      <th></th>\n",
              "      <th>ReviewId</th>\n",
              "      <th>RecipeId</th>\n",
              "      <th>AuthorId</th>\n",
              "      <th>AuthorName</th>\n",
              "      <th>Rating</th>\n",
              "      <th>Review</th>\n",
              "      <th>DateSubmitted</th>\n",
              "      <th>DateModified</th>\n",
              "    </tr>\n",
              "  </thead>\n",
              "  <tbody>\n",
              "    <tr>\n",
              "      <th>0</th>\n",
              "      <td>2</td>\n",
              "      <td>992</td>\n",
              "      <td>2008</td>\n",
              "      <td>gayg msft</td>\n",
              "      <td>5</td>\n",
              "      <td>better than any you can get at a restaurant!</td>\n",
              "      <td>2000-01-25T21:44:00Z</td>\n",
              "      <td>2000-01-25T21:44:00Z</td>\n",
              "    </tr>\n",
              "    <tr>\n",
              "      <th>1</th>\n",
              "      <td>7</td>\n",
              "      <td>4384</td>\n",
              "      <td>1634</td>\n",
              "      <td>Bill Hilbrich</td>\n",
              "      <td>4</td>\n",
              "      <td>I cut back on the mayo, and made up the differ...</td>\n",
              "      <td>2001-10-17T16:49:59Z</td>\n",
              "      <td>2001-10-17T16:49:59Z</td>\n",
              "    </tr>\n",
              "    <tr>\n",
              "      <th>2</th>\n",
              "      <td>9</td>\n",
              "      <td>4523</td>\n",
              "      <td>2046</td>\n",
              "      <td>Gay Gilmore ckpt</td>\n",
              "      <td>2</td>\n",
              "      <td>i think i did something wrong because i could ...</td>\n",
              "      <td>2000-02-25T09:00:00Z</td>\n",
              "      <td>2000-02-25T09:00:00Z</td>\n",
              "    </tr>\n",
              "    <tr>\n",
              "      <th>3</th>\n",
              "      <td>13</td>\n",
              "      <td>7435</td>\n",
              "      <td>1773</td>\n",
              "      <td>Malarkey Test</td>\n",
              "      <td>5</td>\n",
              "      <td>easily the best i have ever had.  juicy flavor...</td>\n",
              "      <td>2000-03-13T21:15:00Z</td>\n",
              "      <td>2000-03-13T21:15:00Z</td>\n",
              "    </tr>\n",
              "    <tr>\n",
              "      <th>4</th>\n",
              "      <td>14</td>\n",
              "      <td>44</td>\n",
              "      <td>2085</td>\n",
              "      <td>Tony Small</td>\n",
              "      <td>5</td>\n",
              "      <td>An excellent dish.</td>\n",
              "      <td>2000-03-28T12:51:00Z</td>\n",
              "      <td>2000-03-28T12:51:00Z</td>\n",
              "    </tr>\n",
              "  </tbody>\n",
              "</table>\n",
              "</div>\n",
              "      <button class=\"colab-df-convert\" onclick=\"convertToInteractive('df-d7f1692d-354c-4f6d-8fbd-4444bcb13840')\"\n",
              "              title=\"Convert this dataframe to an interactive table.\"\n",
              "              style=\"display:none;\">\n",
              "        \n",
              "  <svg xmlns=\"http://www.w3.org/2000/svg\" height=\"24px\"viewBox=\"0 0 24 24\"\n",
              "       width=\"24px\">\n",
              "    <path d=\"M0 0h24v24H0V0z\" fill=\"none\"/>\n",
              "    <path d=\"M18.56 5.44l.94 2.06.94-2.06 2.06-.94-2.06-.94-.94-2.06-.94 2.06-2.06.94zm-11 1L8.5 8.5l.94-2.06 2.06-.94-2.06-.94L8.5 2.5l-.94 2.06-2.06.94zm10 10l.94 2.06.94-2.06 2.06-.94-2.06-.94-.94-2.06-.94 2.06-2.06.94z\"/><path d=\"M17.41 7.96l-1.37-1.37c-.4-.4-.92-.59-1.43-.59-.52 0-1.04.2-1.43.59L10.3 9.45l-7.72 7.72c-.78.78-.78 2.05 0 2.83L4 21.41c.39.39.9.59 1.41.59.51 0 1.02-.2 1.41-.59l7.78-7.78 2.81-2.81c.8-.78.8-2.07 0-2.86zM5.41 20L4 18.59l7.72-7.72 1.47 1.35L5.41 20z\"/>\n",
              "  </svg>\n",
              "      </button>\n",
              "      \n",
              "  <style>\n",
              "    .colab-df-container {\n",
              "      display:flex;\n",
              "      flex-wrap:wrap;\n",
              "      gap: 12px;\n",
              "    }\n",
              "\n",
              "    .colab-df-convert {\n",
              "      background-color: #E8F0FE;\n",
              "      border: none;\n",
              "      border-radius: 50%;\n",
              "      cursor: pointer;\n",
              "      display: none;\n",
              "      fill: #1967D2;\n",
              "      height: 32px;\n",
              "      padding: 0 0 0 0;\n",
              "      width: 32px;\n",
              "    }\n",
              "\n",
              "    .colab-df-convert:hover {\n",
              "      background-color: #E2EBFA;\n",
              "      box-shadow: 0px 1px 2px rgba(60, 64, 67, 0.3), 0px 1px 3px 1px rgba(60, 64, 67, 0.15);\n",
              "      fill: #174EA6;\n",
              "    }\n",
              "\n",
              "    [theme=dark] .colab-df-convert {\n",
              "      background-color: #3B4455;\n",
              "      fill: #D2E3FC;\n",
              "    }\n",
              "\n",
              "    [theme=dark] .colab-df-convert:hover {\n",
              "      background-color: #434B5C;\n",
              "      box-shadow: 0px 1px 3px 1px rgba(0, 0, 0, 0.15);\n",
              "      filter: drop-shadow(0px 1px 2px rgba(0, 0, 0, 0.3));\n",
              "      fill: #FFFFFF;\n",
              "    }\n",
              "  </style>\n",
              "\n",
              "      <script>\n",
              "        const buttonEl =\n",
              "          document.querySelector('#df-d7f1692d-354c-4f6d-8fbd-4444bcb13840 button.colab-df-convert');\n",
              "        buttonEl.style.display =\n",
              "          google.colab.kernel.accessAllowed ? 'block' : 'none';\n",
              "\n",
              "        async function convertToInteractive(key) {\n",
              "          const element = document.querySelector('#df-d7f1692d-354c-4f6d-8fbd-4444bcb13840');\n",
              "          const dataTable =\n",
              "            await google.colab.kernel.invokeFunction('convertToInteractive',\n",
              "                                                     [key], {});\n",
              "          if (!dataTable) return;\n",
              "\n",
              "          const docLinkHtml = 'Like what you see? Visit the ' +\n",
              "            '<a target=\"_blank\" href=https://colab.research.google.com/notebooks/data_table.ipynb>data table notebook</a>'\n",
              "            + ' to learn more about interactive tables.';\n",
              "          element.innerHTML = '';\n",
              "          dataTable['output_type'] = 'display_data';\n",
              "          await google.colab.output.renderOutput(dataTable, element);\n",
              "          const docLink = document.createElement('div');\n",
              "          docLink.innerHTML = docLinkHtml;\n",
              "          element.appendChild(docLink);\n",
              "        }\n",
              "      </script>\n",
              "    </div>\n",
              "  </div>\n",
              "  "
            ],
            "text/plain": [
              "   ReviewId  RecipeId  ...         DateSubmitted          DateModified\n",
              "0         2       992  ...  2000-01-25T21:44:00Z  2000-01-25T21:44:00Z\n",
              "1         7      4384  ...  2001-10-17T16:49:59Z  2001-10-17T16:49:59Z\n",
              "2         9      4523  ...  2000-02-25T09:00:00Z  2000-02-25T09:00:00Z\n",
              "3        13      7435  ...  2000-03-13T21:15:00Z  2000-03-13T21:15:00Z\n",
              "4        14        44  ...  2000-03-28T12:51:00Z  2000-03-28T12:51:00Z\n",
              "\n",
              "[5 rows x 8 columns]"
            ]
          },
          "metadata": {},
          "execution_count": 7
        }
      ]
    },
    {
      "cell_type": "markdown",
      "metadata": {
        "id": "2jGxh0zHXobr"
      },
      "source": [
        "<div style=\"color:white;\n",
        "           display:fill;\n",
        "           border-radius:5px;\n",
        "           background-color:#18EAC1;\n",
        "           font-size:110%;\n",
        "           font-family:Verdana;\n",
        "           letter-spacing:0.5px\">\n",
        "\n",
        "<h1 style=\"padding: 10px;\n",
        "              color:white;\">\n",
        "    <center>Preprocessing The Data</center>\n",
        "</h1>\n",
        "</div>"
      ]
    },
    {
      "cell_type": "code",
      "metadata": {
        "id": "cxPndy4LDwPa"
      },
      "source": [
        "# Proprocessing the data\n",
        "data['Review']=data['Review'].str.lower()\n",
        "# Code to remove the Hashtags from the text\n",
        "data['Review']=data['Review'].apply(lambda x:re.sub(r'\\B#\\S+','',x))\n",
        "# Code to remove the links from the text\n",
        "data['Review']=data['Review'].apply(lambda x:re.sub(r\"http\\S+\", \"\", x))\n",
        "# Code to remove the Special characters from the text \n",
        "data['Review']=data['Review'].apply(lambda x:' '.join(re.findall(r'\\w+', x)))\n",
        "# Code to substitute the multiple spaces with single spaces\n",
        "data['Review']=data['Review'].apply(lambda x:re.sub(r'\\s+', ' ', x, flags=re.I))\n",
        "# Code to remove all the single characters in the text\n",
        "data['Review']=data['Review'].apply(lambda x:re.sub(r'\\s+[a-zA-Z]\\s+', '', x))\n",
        "# Remove the twitter handlers\n",
        "data['Review']=data['Review'].apply(lambda x:re.sub('@[^\\s]+','',x))\n",
        "\n"
      ],
      "execution_count": null,
      "outputs": []
    },
    {
      "cell_type": "code",
      "metadata": {
        "id": "nyEn4PtDEDiM"
      },
      "source": [
        "data=data[['Review']]"
      ],
      "execution_count": null,
      "outputs": []
    },
    {
      "cell_type": "markdown",
      "metadata": {
        "id": "CM7gRyLCXxNT"
      },
      "source": [
        "<div style=\"color:white;\n",
        "           display:fill;\n",
        "           border-radius:5px;\n",
        "           background-color:#EA570E;\n",
        "           font-size:110%;\n",
        "           font-family:Verdana;\n",
        "           letter-spacing:0.5px\">\n",
        "\n",
        "<h1 style=\"padding: 10px;\n",
        "              color:white;\">\n",
        "    <center>Vader Sentiment Analysis</center>\n",
        "</h1>\n",
        "</div>"
      ]
    },
    {
      "cell_type": "markdown",
      "metadata": {
        "id": "PYeQVan1YD2b"
      },
      "source": [
        "<blockquote><h1 style=\" color:#159364; font-family:verdana;\">🕵️ What is Vader ?</h1></blockquote>\n",
        "\n",
        "<div class=\"alert alert-block alert-info\" style=\"font-size:14px; font-family:verdana; line-height: 1.7em;\">\n",
        "📌 &nbsp;VADER ( Valence Aware Dictionary for Sentiment Reasoning) is a model used for text sentiment analysis that is sensitive to both polarity (positive/negative) and intensity (strength) of emotion.\n",
        "</div>"
      ]
    },
    {
      "cell_type": "markdown",
      "metadata": {
        "id": "sP8s155XYLCB"
      },
      "source": [
        "<blockquote><h1 style=\" color:#159364; font-family:verdana;\">🕵️ How does vader work ?</h1></blockquote>\n",
        "\n",
        "<div class=\"alert alert-block alert-info\" style=\"font-size:14px; font-family:verdana; line-height: 1.7em;\">\n",
        "📌 &nbsp;VADER belongs to a type of sentiment analysis that is based on lexicons of sentiment-related words. In this approach, each of the words in the lexicon is rated as to whether it is positive or negative, and in many cases, how positive or negative it is .\n",
        "</div>"
      ]
    },
    {
      "cell_type": "markdown",
      "metadata": {
        "id": "dLIkVAH6YUCU"
      },
      "source": [
        "<blockquote><h1 style=\" color:#159364; font-family:verdana;\">🕵️ What is polarity in Vader Sentiment Analysis ?</h1></blockquote>\n",
        "\n",
        "<div class=\"alert alert-block alert-info\" style=\"font-size:14px; font-family:verdana; line-height: 1.7em;\">\n",
        "📌 &nbsp;The key aspect of sentiment analysis is to analyze a body of text for understanding the opinion expressed by it. Typically, we quantify this sentiment with a positive or negative value, called polarity. The overall sentiment is often inferred as positive, neutral or negative from the sign of the polarity score.\n",
        "</div>"
      ]
    },
    {
      "cell_type": "markdown",
      "metadata": {
        "id": "gxSpdckXYZC1"
      },
      "source": [
        "<blockquote><h1 style=\" color:#159364; font-family:verdana;\">🕵️ What is Compound Score in Vader Sentiment Analysis ?</h1></blockquote>\n",
        "\n",
        "<div class=\"alert alert-block alert-info\" style=\"font-size:14px; font-family:verdana; line-height: 1.7em;\">\n",
        "📌 &nbsp;The Compound score is a metric that calculates the sum of all the lexicon ratings which have been normalized between -1(most extreme negative) and +1 (most extreme positive).\n",
        "</div>"
      ]
    },
    {
      "cell_type": "code",
      "metadata": {
        "id": "trFvbP8dEM6J"
      },
      "source": [
        "\n",
        "# Copying the data into a new dataframe called vader\n",
        "vader=data.copy()\n",
        "\n",
        "sentiment=vad()\n",
        "# Making additional columns for sentiment score in the vader dataframe\n",
        "sen=['Positive','Negative','Neutral']\n",
        "sentiments=[sentiment.polarity_scores(i) for i in vader['Review'].values]\n",
        "vader['Negative Score']=[i['neg'] for i in sentiments]\n",
        "vader['Positive Score']=[i['pos'] for i in sentiments]\n",
        "vader['Neutral Score']=[i['neu'] for i in sentiments]\n",
        "vader['Compound Score']=[i['compound'] for i in sentiments]\n",
        "score=vader['Compound Score'].values\n",
        "t=[]\n",
        "for i in score:\n",
        "    if i >=0.05 :\n",
        "        t.append('Positive')\n",
        "    elif i<=-0.05 :\n",
        "        t.append('Negative')\n",
        "    else:\n",
        "        t.append('Neutral')\n",
        "vader['Overall Sentiment']=t"
      ],
      "execution_count": null,
      "outputs": []
    },
    {
      "cell_type": "code",
      "metadata": {
        "id": "fQ4JvWro8DKR"
      },
      "source": [
        ""
      ],
      "execution_count": null,
      "outputs": []
    },
    {
      "cell_type": "code",
      "metadata": {
        "colab": {
          "base_uri": "https://localhost:8080/",
          "height": 531
        },
        "id": "WcDWP8xMEXDa",
        "outputId": "da6760bc-7562-47f1-e255-a759f829570a"
      },
      "source": [
        "# Having a look at the vader datafram\n",
        "vader.head()"
      ],
      "execution_count": null,
      "outputs": [
        {
          "output_type": "execute_result",
          "data": {
            "text/html": [
              "\n",
              "  <div id=\"df-d3d3781e-6a5f-4fe7-b93a-4dbbf0e8c689\">\n",
              "    <div class=\"colab-df-container\">\n",
              "      <div>\n",
              "<style scoped>\n",
              "    .dataframe tbody tr th:only-of-type {\n",
              "        vertical-align: middle;\n",
              "    }\n",
              "\n",
              "    .dataframe tbody tr th {\n",
              "        vertical-align: top;\n",
              "    }\n",
              "\n",
              "    .dataframe thead th {\n",
              "        text-align: right;\n",
              "    }\n",
              "</style>\n",
              "<table border=\"1\" class=\"dataframe\">\n",
              "  <thead>\n",
              "    <tr style=\"text-align: right;\">\n",
              "      <th></th>\n",
              "      <th>ReviewId</th>\n",
              "      <th>RecipeId</th>\n",
              "      <th>AuthorId</th>\n",
              "      <th>AuthorName</th>\n",
              "      <th>Rating</th>\n",
              "      <th>Review</th>\n",
              "      <th>DateSubmitted</th>\n",
              "      <th>DateModified</th>\n",
              "      <th>Negative Score</th>\n",
              "      <th>Positive Score</th>\n",
              "      <th>Neutral Score</th>\n",
              "      <th>Compound Score</th>\n",
              "      <th>Overall Sentiment</th>\n",
              "    </tr>\n",
              "  </thead>\n",
              "  <tbody>\n",
              "    <tr>\n",
              "      <th>0</th>\n",
              "      <td>2</td>\n",
              "      <td>992</td>\n",
              "      <td>2008</td>\n",
              "      <td>gayg msft</td>\n",
              "      <td>5</td>\n",
              "      <td>better than any you can get atrestaurant</td>\n",
              "      <td>2000-01-25T21:44:00Z</td>\n",
              "      <td>2000-01-25T21:44:00Z</td>\n",
              "      <td>0.000</td>\n",
              "      <td>0.326</td>\n",
              "      <td>0.674</td>\n",
              "      <td>0.4404</td>\n",
              "      <td>Positive</td>\n",
              "    </tr>\n",
              "    <tr>\n",
              "      <th>1</th>\n",
              "      <td>7</td>\n",
              "      <td>4384</td>\n",
              "      <td>1634</td>\n",
              "      <td>Bill Hilbrich</td>\n",
              "      <td>4</td>\n",
              "      <td>i cut back on the mayo and made up the differe...</td>\n",
              "      <td>2001-10-17T16:49:59Z</td>\n",
              "      <td>2001-10-17T16:49:59Z</td>\n",
              "      <td>0.100</td>\n",
              "      <td>0.000</td>\n",
              "      <td>0.900</td>\n",
              "      <td>-0.2732</td>\n",
              "      <td>Negative</td>\n",
              "    </tr>\n",
              "    <tr>\n",
              "      <th>2</th>\n",
              "      <td>9</td>\n",
              "      <td>4523</td>\n",
              "      <td>2046</td>\n",
              "      <td>Gay Gilmore ckpt</td>\n",
              "      <td>2</td>\n",
              "      <td>i thinkdid something wrong becausecould taste ...</td>\n",
              "      <td>2000-02-25T09:00:00Z</td>\n",
              "      <td>2000-02-25T09:00:00Z</td>\n",
              "      <td>0.237</td>\n",
              "      <td>0.000</td>\n",
              "      <td>0.763</td>\n",
              "      <td>-0.4767</td>\n",
              "      <td>Negative</td>\n",
              "    </tr>\n",
              "    <tr>\n",
              "      <th>3</th>\n",
              "      <td>13</td>\n",
              "      <td>7435</td>\n",
              "      <td>1773</td>\n",
              "      <td>Malarkey Test</td>\n",
              "      <td>5</td>\n",
              "      <td>easily the besthave ever had juicy flavorful n...</td>\n",
              "      <td>2000-03-13T21:15:00Z</td>\n",
              "      <td>2000-03-13T21:15:00Z</td>\n",
              "      <td>0.000</td>\n",
              "      <td>0.209</td>\n",
              "      <td>0.791</td>\n",
              "      <td>0.5423</td>\n",
              "      <td>Positive</td>\n",
              "    </tr>\n",
              "    <tr>\n",
              "      <th>4</th>\n",
              "      <td>14</td>\n",
              "      <td>44</td>\n",
              "      <td>2085</td>\n",
              "      <td>Tony Small</td>\n",
              "      <td>5</td>\n",
              "      <td>an excellent dish</td>\n",
              "      <td>2000-03-28T12:51:00Z</td>\n",
              "      <td>2000-03-28T12:51:00Z</td>\n",
              "      <td>0.000</td>\n",
              "      <td>0.649</td>\n",
              "      <td>0.351</td>\n",
              "      <td>0.5719</td>\n",
              "      <td>Positive</td>\n",
              "    </tr>\n",
              "  </tbody>\n",
              "</table>\n",
              "</div>\n",
              "      <button class=\"colab-df-convert\" onclick=\"convertToInteractive('df-d3d3781e-6a5f-4fe7-b93a-4dbbf0e8c689')\"\n",
              "              title=\"Convert this dataframe to an interactive table.\"\n",
              "              style=\"display:none;\">\n",
              "        \n",
              "  <svg xmlns=\"http://www.w3.org/2000/svg\" height=\"24px\"viewBox=\"0 0 24 24\"\n",
              "       width=\"24px\">\n",
              "    <path d=\"M0 0h24v24H0V0z\" fill=\"none\"/>\n",
              "    <path d=\"M18.56 5.44l.94 2.06.94-2.06 2.06-.94-2.06-.94-.94-2.06-.94 2.06-2.06.94zm-11 1L8.5 8.5l.94-2.06 2.06-.94-2.06-.94L8.5 2.5l-.94 2.06-2.06.94zm10 10l.94 2.06.94-2.06 2.06-.94-2.06-.94-.94-2.06-.94 2.06-2.06.94z\"/><path d=\"M17.41 7.96l-1.37-1.37c-.4-.4-.92-.59-1.43-.59-.52 0-1.04.2-1.43.59L10.3 9.45l-7.72 7.72c-.78.78-.78 2.05 0 2.83L4 21.41c.39.39.9.59 1.41.59.51 0 1.02-.2 1.41-.59l7.78-7.78 2.81-2.81c.8-.78.8-2.07 0-2.86zM5.41 20L4 18.59l7.72-7.72 1.47 1.35L5.41 20z\"/>\n",
              "  </svg>\n",
              "      </button>\n",
              "      \n",
              "  <style>\n",
              "    .colab-df-container {\n",
              "      display:flex;\n",
              "      flex-wrap:wrap;\n",
              "      gap: 12px;\n",
              "    }\n",
              "\n",
              "    .colab-df-convert {\n",
              "      background-color: #E8F0FE;\n",
              "      border: none;\n",
              "      border-radius: 50%;\n",
              "      cursor: pointer;\n",
              "      display: none;\n",
              "      fill: #1967D2;\n",
              "      height: 32px;\n",
              "      padding: 0 0 0 0;\n",
              "      width: 32px;\n",
              "    }\n",
              "\n",
              "    .colab-df-convert:hover {\n",
              "      background-color: #E2EBFA;\n",
              "      box-shadow: 0px 1px 2px rgba(60, 64, 67, 0.3), 0px 1px 3px 1px rgba(60, 64, 67, 0.15);\n",
              "      fill: #174EA6;\n",
              "    }\n",
              "\n",
              "    [theme=dark] .colab-df-convert {\n",
              "      background-color: #3B4455;\n",
              "      fill: #D2E3FC;\n",
              "    }\n",
              "\n",
              "    [theme=dark] .colab-df-convert:hover {\n",
              "      background-color: #434B5C;\n",
              "      box-shadow: 0px 1px 3px 1px rgba(0, 0, 0, 0.15);\n",
              "      filter: drop-shadow(0px 1px 2px rgba(0, 0, 0, 0.3));\n",
              "      fill: #FFFFFF;\n",
              "    }\n",
              "  </style>\n",
              "\n",
              "      <script>\n",
              "        const buttonEl =\n",
              "          document.querySelector('#df-d3d3781e-6a5f-4fe7-b93a-4dbbf0e8c689 button.colab-df-convert');\n",
              "        buttonEl.style.display =\n",
              "          google.colab.kernel.accessAllowed ? 'block' : 'none';\n",
              "\n",
              "        async function convertToInteractive(key) {\n",
              "          const element = document.querySelector('#df-d3d3781e-6a5f-4fe7-b93a-4dbbf0e8c689');\n",
              "          const dataTable =\n",
              "            await google.colab.kernel.invokeFunction('convertToInteractive',\n",
              "                                                     [key], {});\n",
              "          if (!dataTable) return;\n",
              "\n",
              "          const docLinkHtml = 'Like what you see? Visit the ' +\n",
              "            '<a target=\"_blank\" href=https://colab.research.google.com/notebooks/data_table.ipynb>data table notebook</a>'\n",
              "            + ' to learn more about interactive tables.';\n",
              "          element.innerHTML = '';\n",
              "          dataTable['output_type'] = 'display_data';\n",
              "          await google.colab.output.renderOutput(dataTable, element);\n",
              "          const docLink = document.createElement('div');\n",
              "          docLink.innerHTML = docLinkHtml;\n",
              "          element.appendChild(docLink);\n",
              "        }\n",
              "      </script>\n",
              "    </div>\n",
              "  </div>\n",
              "  "
            ],
            "text/plain": [
              "   ReviewId  RecipeId  ...  Compound Score Overall Sentiment\n",
              "0         2       992  ...          0.4404          Positive\n",
              "1         7      4384  ...         -0.2732          Negative\n",
              "2         9      4523  ...         -0.4767          Negative\n",
              "3        13      7435  ...          0.5423          Positive\n",
              "4        14        44  ...          0.5719          Positive\n",
              "\n",
              "[5 rows x 13 columns]"
            ]
          },
          "metadata": {},
          "execution_count": 10
        }
      ]
    },
    {
      "cell_type": "code",
      "metadata": {
        "colab": {
          "base_uri": "https://localhost:8080/",
          "height": 386
        },
        "id": "5-WsQmS5ElkB",
        "outputId": "290767af-2c3a-48da-ff8d-01a30b22833d"
      },
      "source": [
        "sns.countplot(vader['Overall Sentiment'])"
      ],
      "execution_count": null,
      "outputs": [
        {
          "output_type": "stream",
          "name": "stderr",
          "text": [
            "/usr/local/lib/python3.7/dist-packages/seaborn/_decorators.py:43: FutureWarning:\n",
            "\n",
            "Pass the following variable as a keyword arg: x. From version 0.12, the only valid positional argument will be `data`, and passing other arguments without an explicit keyword will result in an error or misinterpretation.\n",
            "\n"
          ]
        },
        {
          "output_type": "execute_result",
          "data": {
            "text/plain": [
              "<matplotlib.axes._subplots.AxesSubplot at 0x7f8912d53450>"
            ]
          },
          "metadata": {},
          "execution_count": 11
        },
        {
          "output_type": "display_data",
          "data": {
            "image/png": "[encoded data removed]",
            "text/plain": [
              "<Figure size 432x288 with 1 Axes>"
            ]
          },
          "metadata": {
            "needs_background": "light"
          }
        }
      ]
    }
  ]
}